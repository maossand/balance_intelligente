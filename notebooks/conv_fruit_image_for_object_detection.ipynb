{
 "cells": [
  {
   "cell_type": "markdown",
   "metadata": {},
   "source": [
    "### tranformation des annotations au format pascalvoc vers yolo du dataset fruit_images_for_object_detection"
   ]
  },
  {
   "cell_type": "code",
   "execution_count": 20,
   "metadata": {},
   "outputs": [],
   "source": [
    "import os\n",
    "from matplotlib import pyplot as plt\n"
   ]
  },
  {
   "cell_type": "code",
   "execution_count": null,
   "metadata": {},
   "outputs": [],
   "source": [
    "import xml.etree.ElementTree as ET\n",
    "\n",
    "def get_label_id(dict,label):\n",
    "    if label in dict.keys():\n",
    "        return dict[label]\n",
    "    else:\n",
    "        dict[label] = len(dict)\n",
    "        return dict[label]\n",
    "\n",
    "def read_content(xml_file: str):\n",
    "\n",
    "    tree = ET.parse(xml_file)\n",
    "    root = tree.getroot()\n",
    "\n",
    "    list_with_all_boxes = []\n",
    "\n",
    "    for boxes in root.iter('object'):\n",
    "\n",
    "        labelname = root.find(\"object/name\").text\n",
    "\n",
    "        ymin, xmin, ymax, xmax = None, None, None, None\n",
    "\n",
    "        ymin = int(boxes.find(\"bndbox/ymin\").text)\n",
    "        xmin = int(boxes.find(\"bndbox/xmin\").text)\n",
    "        ymax = int(boxes.find(\"bndbox/ymax\").text)\n",
    "        xmax = int(boxes.find(\"bndbox/xmax\").text)\n",
    "        img_width = int(root.find(\"size/width\").text)\n",
    "        img_height = int(root.find(\"size/height\").text)\n",
    "        if img_width ==0 or img_height ==0:\n",
    "            im = plt.imread(xml_file.replace(\"xml\",\"jpg\"))\n",
    "            img_height, img_width, _ = im.shape\n",
    "\n",
    "\n",
    "        list_with_single_boxes =[labelname, xmin, ymin, xmax, ymax, img_width, img_height]\n",
    "        list_with_all_boxes.append(list_with_single_boxes)\n",
    "\n",
    "    return  list_with_all_boxes\n",
    "\n",
    "def to_yolo(xcenter, ycenter, obj_w, obj_h, img_w, img_h):\n",
    "    x = xcenter / img_w\n",
    "    y = ycenter / img_h\n",
    "\n",
    "    w = obj_w / img_w\n",
    "    h = obj_h / img_h    \n",
    "\n",
    "    mystring = str(\"0 \" + str(round(x, 7)) + \" \" + str(round(y, 7)) + \" \" + str(round(w, 7)) + \" \" + str(round(h, 7)))\n",
    "    \n",
    "    return mystring"
   ]
  },
  {
   "cell_type": "code",
   "execution_count": 11,
   "metadata": {},
   "outputs": [],
   "source": [
    "path = \"/home/usr/code/pdufourny/Projet/fruit_images_for_object_detection/\"\n",
    "path_train = path+\"train_zip/train/\"\n",
    "path_test = path+\"test_zip/test/\"\n",
    "\n",
    "lst_file_input = [path_train+fname for fname in os.listdir(path_train) if fname.endswith(\".xml\")]\n",
    "lst_labels = {}\n"
   ]
  },
  {
   "cell_type": "code",
   "execution_count": 19,
   "metadata": {},
   "outputs": [
    {
     "name": "stdout",
     "output_type": "stream",
     "text": [
      "/home/usr/code/pdufourny/Projet/fruit_images_for_object_detection/train_zip/train/orange_46.xml\n",
      "/home/usr/code/pdufourny/Projet/fruit_images_for_object_detection/train_zip/train/apple_14.xml\n",
      "/home/usr/code/pdufourny/Projet/fruit_images_for_object_detection/train_zip/train/orange_20.xml\n",
      "/home/usr/code/pdufourny/Projet/fruit_images_for_object_detection/train_zip/train/banana_71.xml\n"
     ]
    },
    {
     "ename": "ZeroDivisionError",
     "evalue": "float division by zero",
     "output_type": "error",
     "traceback": [
      "\u001b[0;31m---------------------------------------------------------------------------\u001b[0m",
      "\u001b[0;31mZeroDivisionError\u001b[0m                         Traceback (most recent call last)",
      "Cell \u001b[0;32mIn[19], line 15\u001b[0m\n\u001b[1;32m     13\u001b[0m     w \u001b[38;5;241m=\u001b[39m  x_max \u001b[38;5;241m-\u001b[39m x_min\n\u001b[1;32m     14\u001b[0m     h \u001b[38;5;241m=\u001b[39m y_max \u001b[38;5;241m-\u001b[39m y_min\n\u001b[0;32m---> 15\u001b[0m     yolo_str \u001b[38;5;241m=\u001b[39m \u001b[43mto_yolo\u001b[49m\u001b[43m(\u001b[49m\u001b[43mx_center\u001b[49m\u001b[43m,\u001b[49m\u001b[43m \u001b[49m\u001b[43my_center\u001b[49m\u001b[43m,\u001b[49m\u001b[43m \u001b[49m\u001b[43mw\u001b[49m\u001b[43m,\u001b[49m\u001b[43m \u001b[49m\u001b[43mh\u001b[49m\u001b[43m,\u001b[49m\u001b[43m \u001b[49m\u001b[43mimg_width\u001b[49m\u001b[43m,\u001b[49m\u001b[43m \u001b[49m\u001b[43mimg_height\u001b[49m\u001b[43m)\u001b[49m\n\u001b[1;32m     16\u001b[0m     out_file\u001b[38;5;241m.\u001b[39mwrite(yolo_str \u001b[38;5;241m+\u001b[39m \u001b[38;5;124m\"\u001b[39m\u001b[38;5;130;01m\\n\u001b[39;00m\u001b[38;5;124m\"\u001b[39m)\n\u001b[1;32m     17\u001b[0m out_file\u001b[38;5;241m.\u001b[39mclose()\n",
      "Cell \u001b[0;32mIn[16], line 36\u001b[0m, in \u001b[0;36mto_yolo\u001b[0;34m(xcenter, ycenter, obj_w, obj_h, img_w, img_h)\u001b[0m\n\u001b[1;32m     35\u001b[0m \u001b[38;5;28;01mdef\u001b[39;00m\u001b[38;5;250m \u001b[39m\u001b[38;5;21mto_yolo\u001b[39m(xcenter, ycenter, obj_w, obj_h, img_w, img_h):\n\u001b[0;32m---> 36\u001b[0m     x \u001b[38;5;241m=\u001b[39m \u001b[43mxcenter\u001b[49m\u001b[43m \u001b[49m\u001b[38;5;241;43m/\u001b[39;49m\u001b[43m \u001b[49m\u001b[43mimg_w\u001b[49m\n\u001b[1;32m     37\u001b[0m     y \u001b[38;5;241m=\u001b[39m ycenter \u001b[38;5;241m/\u001b[39m img_h\n\u001b[1;32m     39\u001b[0m     w \u001b[38;5;241m=\u001b[39m obj_w \u001b[38;5;241m/\u001b[39m img_w\n",
      "\u001b[0;31mZeroDivisionError\u001b[0m: float division by zero"
     ]
    }
   ],
   "source": [
    "for xml_file in lst_file_input:\n",
    "    print(xml_file)\n",
    "    list_with_all_boxes = read_content(xml_file)\n",
    "    out_file = open(xml_file[:-4]+\".txt\", \"w\")\n",
    "    for box in list_with_all_boxes:\n",
    "        (label,x_min, y_min, x_max, y_max,img_width,img_height) = box\n",
    "        label_num = get_label_id(lst_labels, label)\n",
    "        box[0] = str(label_num)\n",
    "\n",
    "        x_center = (x_max + x_min) / 2\n",
    "        y_center = (y_max + y_min) / 2\n",
    "    \n",
    "        w =  x_max - x_min\n",
    "        h = y_max - y_min\n",
    "        yolo_str = to_yolo(x_center, y_center, w, h, img_width, img_height)\n",
    "        out_file.write(yolo_str + \"\\n\")\n",
    "    out_file.close()"
   ]
  },
  {
   "cell_type": "code",
   "execution_count": null,
   "metadata": {},
   "outputs": [],
   "source": []
  }
 ],
 "metadata": {
  "kernelspec": {
   "display_name": "balance_intelligente",
   "language": "python",
   "name": "python3"
  },
  "language_info": {
   "codemirror_mode": {
    "name": "ipython",
    "version": 3
   },
   "file_extension": ".py",
   "mimetype": "text/x-python",
   "name": "python",
   "nbconvert_exporter": "python",
   "pygments_lexer": "ipython3",
   "version": "3.10.12"
  }
 },
 "nbformat": 4,
 "nbformat_minor": 2
}
