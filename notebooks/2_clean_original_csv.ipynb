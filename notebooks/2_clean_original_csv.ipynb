{
  "cells": [
    {
      "cell_type": "code",
      "execution_count": 2,
      "metadata": {
        "id": "dIqIX7AO1OFp"
      },
      "outputs": [],
      "source": [
        "import pandas as pd\n",
        "import numpy as np\n",
        "import matplotlib.pyplot as plt\n",
        "import matplotlib.image as mpimg\n",
        "import os\n",
        "\n"
      ]
    },
    {
      "cell_type": "markdown",
      "metadata": {},
      "source": [
        "# Import Classification DF"
      ]
    },
    {
      "cell_type": "code",
      "execution_count": 3,
      "metadata": {
        "id": "xRfQtjZky4C1"
      },
      "outputs": [],
      "source": [
        "\n",
        "#Import classification df\n",
        "\n",
        "#Force the 8th column to string to avoid error\n",
        "\n",
        "dtype = {7: str}\n",
        "\n",
        "#Import csv\n",
        "\n",
        "classification_df = pd.read_csv('../variety_classification.csv', dtype=dtype)\n",
        "\n",
        "###General Cleaning\n",
        "\n",
        "#Create a working file path for the folders\n",
        "classification_df['image_path'] = (classification_df['subset'].astype(str) + '/'\n",
        "                                + classification_df['species'].astype(str) + '_'\n",
        "                                + classification_df['variety'].astype(str) + '/'\n",
        "                                + classification_df['variety_image_path'].apply(lambda x: str(x).split('/')[-1]))\n",
        "classification_df.drop(columns=['variety_image_path'], inplace=True)\n",
        "\n",
        "#Create a column with the file name\n",
        "classification_df['file_name'] = classification_df['image_path'].apply(lambda x: str(x).split('/')[-1])\n",
        "\n",
        "#Clean variable names and column name to avoid conflict with the class 'class'\n",
        "classification_df['fruit_class'] = classification_df['species'] + '_' + classification_df['variety']\n",
        "\n",
        "classification_df.drop(columns=['class'], inplace=True)\n",
        "\n",
        "#Change variables type\n",
        "classification_df['layout_id'] = classification_df['layout_id'].astype('str')\n",
        "classification_df['cam'] = classification_df['cam'].astype('str')\n",
        "classification_df['shop'] = classification_df['shop'].astype('str')\n",
        "classification_df['date'] = classification_df['date'].astype('str')\n",
        "\n",
        "classification_df['weight'] = pd.to_numeric(classification_df['weight'], errors='coerce')\n",
        "\n",
        "\n",
        "#Clean whitespaces in str variables\n",
        "\n",
        "classification_df[classification_df.select_dtypes('object').columns] = classification_df.select_dtypes('object').apply(lambda x: x.str.strip() if x.dtype == \"object\" else x)\n",
        "\n",
        "#Set everything to lowercase\n",
        "\n",
        "classification_df[classification_df.select_dtypes('object').columns] = classification_df.select_dtypes('object').apply(lambda x: x.str.strip().str.lower() if x.dtype == \"object\" else x)\n",
        "\n"
      ]
    },
    {
      "cell_type": "code",
      "execution_count": 4,
      "metadata": {
        "colab": {
          "base_uri": "https://localhost:8080/"
        },
        "id": "BmYYxnm0xtao",
        "outputId": "d07442b8-d204-4d92-932c-92d40d42c470"
      },
      "outputs": [
        {
          "data": {
            "text/plain": [
              "Index(['species', 'variety', 'layout_id', 'for_cropping', 'packed', 'amount',\n",
              "       'weight', 'uniform_background', 'spoiled', 'cam', 'city', 'shop',\n",
              "       'crowd', 'date', 'subset', 'simp_amount', 'image_path', 'file_name',\n",
              "       'fruit_class'],\n",
              "      dtype='object')"
            ]
          },
          "execution_count": 4,
          "metadata": {},
          "output_type": "execute_result"
        }
      ],
      "source": [
        "classification_df.columns"
      ]
    },
    {
      "cell_type": "markdown",
      "metadata": {
        "id": "PxfklM5DJf5W"
      },
      "source": [
        "## Cleaning Date Column"
      ]
    },
    {
      "cell_type": "code",
      "execution_count": 5,
      "metadata": {
        "id": "I3CawG7NJiBZ"
      },
      "outputs": [
        {
          "name": "stderr",
          "output_type": "stream",
          "text": [
            "/var/folders/g4/xn5x8vvs1wn45zdrg3yft5bw0000gn/T/ipykernel_54209/659562472.py:6: FutureWarning: The default value of regex will change from True to False in a future version. In addition, single character regular expressions will *not* be treated as literal strings when regex=True.\n",
            "  classification_df['date'] = classification_df['date'].str.replace('-', '/').str.replace('.', '/').str.replace(';','/')\n"
          ]
        }
      ],
      "source": [
        "#classification_df.groupby('date').count()\n",
        "\n",
        "#The format looks really messy, we are interested in the year and month, let's extract those.\n",
        "\n",
        "#The format looks really messy, we are interested in the year and month, let's extract those.\n",
        "classification_df['date'] = classification_df['date'].str.replace('-', '/').str.replace('.', '/').str.replace(';','/')\n",
        "classification_df['date'] = classification_df['date'].str.replace('0202','2022')\n",
        "classification_df['date'] = classification_df['date'].str.replace(' may ', '/05/')\n",
        "classification_df['date'] = classification_df['date'].str.replace(' june ', '/06/')\n",
        "\n",
        "# Convert Excel serial dates (e.g., '44741') if the string starts with '447' and return as 'YYYY/MM/DD' format\n",
        "classification_df['date'] = classification_df['date'].apply(lambda row: (pd.to_datetime('1899-12-30') + pd.to_timedelta(float(row), unit='D')).strftime('%Y/%m/%d')\n",
        "                                        if isinstance(row, str) and row.startswith('447') else row)\n",
        "#Data was collected in 2022\n",
        "classification_df['year'] = classification_df['date'].apply(lambda row: '2022' if '2022' in row else 0)\n",
        "\n",
        "#Extracting Months\n",
        "classification_df['month'] = classification_df['date'].apply(lambda row: row.split('/')[1] if len(row.split('/')) > 1 else 0)\n",
        "classification_df['month'] = classification_df['month'].astype('str').apply(lambda row: '0' + row if len(row) == 1 else row)\n",
        "\n",
        "#Extracting Days\n",
        "classification_df['day'] = classification_df['date'].apply(\n",
        "    lambda x: x.split('/', 2)[2][:2] if len(x.split('/', 2)[0]) > 2 and len(x.split('/', 2)) > 2\n",
        "    else x.split('/', 2)[0] if len(x.split('/', 2)[0]) <= 2 else '0'\n",
        ")\n",
        "classification_df['day'] = classification_df['day'].astype('str').apply(lambda row: '0' + row if len(row) == 1 else row)\n",
        "\n",
        "\n",
        "classification_df['full_date'] = classification_df['year'].astype('str') + '-' + classification_df['month'] + '-' + classification_df['day']\n",
        "classification_df['full_date'] = pd.to_datetime(classification_df['full_date'], errors='coerce')\n",
        "\n",
        "classification_df.drop(columns=['date'], inplace=True)\n",
        "\n"
      ]
    },
    {
      "cell_type": "code",
      "execution_count": 6,
      "metadata": {
        "colab": {
          "base_uri": "https://localhost:8080/",
          "height": 444
        },
        "id": "S5kEb7YQfKgr",
        "outputId": "88fb391b-2a0a-4304-f9dd-b25c5d209fd4"
      },
      "outputs": [],
      "source": [
        "classification_df = classification_df[['file_name', 'fruit_class', 'layout_id', 'packed', 'amount', 'weight', 'crowd', 'subset', 'simp_amount', 'uniform_background', 'spoiled', 'full_date']]\n",
        "classification_df.rename(columns={'fruit_class':'variety'}, inplace=True)\n",
        "\n"
      ]
    },
    {
      "cell_type": "code",
      "execution_count": 7,
      "metadata": {},
      "outputs": [],
      "source": [
        "# Dropping rows with values we cannot use\n",
        "\n",
        "classification_df = classification_df[~((classification_df['layout_id'] == '0') | (classification_df['layout_id'] == 0))]\n",
        "\n",
        "# Keep only images with layout_id repeated 4 times\n",
        "\n",
        "layout_id_counts = classification_df['layout_id'].value_counts()\n",
        "classification_df = classification_df[classification_df['layout_id'].isin(layout_id_counts[layout_id_counts == 4].index)]\n",
        "\n",
        "# Create a 'rank' column by grouping by 'layout_id' and applying the rank within each group\n",
        "\n",
        "classification_df['rank'] = classification_df.groupby('layout_id').cumcount() + 1\n",
        "\n",
        "# Drop rows with unknown amount (the weight of the fruits in the picture we can estimate from the amount of fruits in the image, \n",
        "# but we cannot estimate amount from the images)\n",
        "\n",
        "classification_df = classification_df[~((classification_df['amount'] == 0) | (classification_df['amount'].isna()))]\n",
        "\n",
        "# Get varieties with 'amount' == 0 in all rows\n",
        "\n",
        "sum_amount = classification_df.groupby('variety')['amount'].sum().sort_values()\n",
        "amount_0 = list(sum_amount[sum_amount == 0].reset_index()['variety'])\n",
        "# Drop varieties with 'amount' == 0 in all rows\n",
        "classification_df = classification_df[~(classification_df['variety'].isin(amount_0))]"
      ]
    },
    {
      "cell_type": "code",
      "execution_count": 8,
      "metadata": {},
      "outputs": [],
      "source": [
        "#Filling the remaining NaN in weight\n",
        "\n",
        "variety_weight_nan = list(classification_df[classification_df['weight'].isna()].groupby('variety').size().reset_index()['variety'])\n",
        "\n",
        "classification_weight_nan = classification_df[(classification_df['variety'].isin(variety_weight_nan)) & \n",
        "                                            (classification_df['amount'] == 1) &\n",
        "                                            (~classification_df['weight'].isna())]\n",
        "\n",
        "mean_weights = classification_weight_nan.groupby('variety')['weight'].mean().reset_index()\n",
        "\n",
        "# Convert the result to a dictionary\n",
        "mean_weights_dict = mean_weights.set_index('variety')['weight'].apply(lambda x: round(x, 2)).to_dict()\n",
        "\n",
        "classification_df['weight'] = classification_df.apply(\n",
        "    lambda row: row['amount'] * mean_weights_dict.get(row['variety'], 0) \n",
        "    if pd.isna(row['weight']) else row['weight'], axis=1\n",
        ")"
      ]
    },
    {
      "cell_type": "code",
      "execution_count": 9,
      "metadata": {},
      "outputs": [],
      "source": [
        "#Cases with 0 in weight\n",
        "\n",
        "#For pepper_sweet_elonged\n",
        "\n",
        "# Step 1: Calculate the average weight for amount == 1 in the 'pepper_sweet_elonged' variety\n",
        "average_weight_amount_pepper_sweet_elonged= classification_df[(classification_df['variety'] == 'pepper_sweet_elonged') & \n",
        "                                    (classification_df['amount'] == 3)]['weight'].mean()/3\n",
        "\n",
        "# # Step 2: Fill NaN values in 'weight' for 'pepper_sweet_yellow' variety by multiplying average_weight_amount_pepper by 'amount'\n",
        "# classification_df.loc[(classification_df['variety'] == 'pepper_sweet_elonged') & \n",
        "#                 (classification_df['weight'].isna()), 'weight'] = classification_df['amount'] * average_weight_amount_pepper_sweet_elonged\n",
        "\n",
        "classification_df.loc[(classification_df['variety'] == 'pepper_sweet_elonged') & \n",
        "                (classification_df['weight'] == 0), 'weight'] = classification_df['amount'] * average_weight_amount_pepper_sweet_elonged\n",
        "\n",
        "\n",
        "#For lime_lime\n",
        "\n",
        "# Step 1: Calculate the average weight for amount == 2 in the 'lime_lime' variety\n",
        "average_weight_amount_lime = (classification_df[(classification_df['variety'] == 'lime_lime') & \n",
        "                                    (classification_df['amount'] == 2)]['weight'].mean())/2\n",
        "\n",
        "# # Step 3: Fill NaN values in 'weight' for 'lime_lime' variety by multiplying value_to_fill by 'amount'\n",
        "# classification_df.loc[(classification_df['variety'] == 'lime_lime') & \n",
        "#                 (classification_df['weight'].isna()), 'weight'] = classification_df['amount'] * average_weight_amount_lime\n",
        "\n",
        "classification_df.loc[(classification_df['variety'] == 'lime_lime') & \n",
        "                (classification_df['weight'] == 0), 'weight'] = classification_df['amount'] * average_weight_amount_lime"
      ]
    },
    {
      "cell_type": "markdown",
      "metadata": {},
      "source": [
        "## Checking Outliers in Weight Column"
      ]
    },
    {
      "cell_type": "code",
      "execution_count": 10,
      "metadata": {},
      "outputs": [],
      "source": [
        "average_weight_per_variety = classification_df.groupby(['variety','amount'])['weight'].mean().reset_index()\n",
        "\n",
        "avg_weight_1_fruit = average_weight_per_variety[average_weight_per_variety['amount'] == 1]\n",
        "\n",
        "avg_weight_1_dict = avg_weight_1_fruit.set_index('variety')['weight'].apply(lambda x: round(x, 2)).to_dict()\n"
      ]
    },
    {
      "cell_type": "code",
      "execution_count": 11,
      "metadata": {},
      "outputs": [],
      "source": [
        "# Identify outliers between the actual group weight and the expected group weight (which is count * average_weight).\n",
        "# Define an outlier as any group where the total weight deviates too far from the expected weight. \n",
        "# For this, allow a margin of error, say ±30% around the expected weight.\n",
        "\n",
        "margin_of_error = 0.3\n",
        "\n",
        "# Add the expected weight column\n",
        "classification_df['expected_weight'] = classification_df['amount'] * classification_df['variety'].map(avg_weight_1_dict)\n",
        "\n",
        "# Calculate the allowed deviation range based on the margin of error\n",
        "classification_df['min_weight'] = classification_df['expected_weight'] * (1 - margin_of_error)\n",
        "classification_df['max_weight'] = classification_df['expected_weight'] * (1 + margin_of_error)\n"
      ]
    },
    {
      "cell_type": "code",
      "execution_count": 12,
      "metadata": {},
      "outputs": [
        {
          "name": "stdout",
          "output_type": "stream",
          "text": [
            "False    58421\n",
            "True     23900\n",
            "Name: is_outlier, dtype: int64\n"
          ]
        }
      ],
      "source": [
        "#Flag any rows where the actual weight is outside the min_weight and max_weight range\n",
        "\n",
        "# Identify outliers\n",
        "\n",
        "classification_df['is_outlier'] = (classification_df['weight'] < classification_df['min_weight']) | (classification_df['weight'] > classification_df['max_weight'])\n",
        "\n",
        "print(classification_df['is_outlier'].value_counts())\n",
        "\n",
        "#Over 24.000 / 4 weights that are outside the range "
      ]
    },
    {
      "cell_type": "code",
      "execution_count": 13,
      "metadata": {},
      "outputs": [
        {
          "data": {
            "text/html": [
              "<div>\n",
              "<style scoped>\n",
              "    .dataframe tbody tr th:only-of-type {\n",
              "        vertical-align: middle;\n",
              "    }\n",
              "\n",
              "    .dataframe tbody tr th {\n",
              "        vertical-align: top;\n",
              "    }\n",
              "\n",
              "    .dataframe thead th {\n",
              "        text-align: right;\n",
              "    }\n",
              "</style>\n",
              "<table border=\"1\" class=\"dataframe\">\n",
              "  <thead>\n",
              "    <tr style=\"text-align: right;\">\n",
              "      <th></th>\n",
              "      <th>file_name</th>\n",
              "      <th>variety</th>\n",
              "      <th>layout_id</th>\n",
              "      <th>packed</th>\n",
              "      <th>amount</th>\n",
              "      <th>weight</th>\n",
              "      <th>crowd</th>\n",
              "      <th>subset</th>\n",
              "      <th>simp_amount</th>\n",
              "      <th>uniform_background</th>\n",
              "      <th>spoiled</th>\n",
              "      <th>full_date</th>\n",
              "      <th>rank</th>\n",
              "      <th>adjusted_weight</th>\n",
              "    </tr>\n",
              "  </thead>\n",
              "  <tbody>\n",
              "    <tr>\n",
              "      <th>0</th>\n",
              "      <td>007576.jpg</td>\n",
              "      <td>apple_fuji</td>\n",
              "      <td>1246</td>\n",
              "      <td>1</td>\n",
              "      <td>5</td>\n",
              "      <td>776.0</td>\n",
              "      <td>0</td>\n",
              "      <td>train</td>\n",
              "      <td>4-6</td>\n",
              "      <td>0</td>\n",
              "      <td>0</td>\n",
              "      <td>2022-06-10</td>\n",
              "      <td>1</td>\n",
              "      <td>776.0</td>\n",
              "    </tr>\n",
              "    <tr>\n",
              "      <th>1</th>\n",
              "      <td>085095.jpg</td>\n",
              "      <td>apple_fuji</td>\n",
              "      <td>1246</td>\n",
              "      <td>1</td>\n",
              "      <td>5</td>\n",
              "      <td>776.0</td>\n",
              "      <td>0</td>\n",
              "      <td>train</td>\n",
              "      <td>4-6</td>\n",
              "      <td>0</td>\n",
              "      <td>0</td>\n",
              "      <td>2022-06-10</td>\n",
              "      <td>2</td>\n",
              "      <td>776.0</td>\n",
              "    </tr>\n",
              "    <tr>\n",
              "      <th>2</th>\n",
              "      <td>077142.jpg</td>\n",
              "      <td>apple_fuji</td>\n",
              "      <td>1246</td>\n",
              "      <td>1</td>\n",
              "      <td>5</td>\n",
              "      <td>776.0</td>\n",
              "      <td>0</td>\n",
              "      <td>train</td>\n",
              "      <td>4-6</td>\n",
              "      <td>0</td>\n",
              "      <td>0</td>\n",
              "      <td>2022-06-10</td>\n",
              "      <td>3</td>\n",
              "      <td>776.0</td>\n",
              "    </tr>\n",
              "    <tr>\n",
              "      <th>3</th>\n",
              "      <td>091219.jpg</td>\n",
              "      <td>apple_fuji</td>\n",
              "      <td>1246</td>\n",
              "      <td>1</td>\n",
              "      <td>5</td>\n",
              "      <td>776.0</td>\n",
              "      <td>0</td>\n",
              "      <td>train</td>\n",
              "      <td>4-6</td>\n",
              "      <td>0</td>\n",
              "      <td>0</td>\n",
              "      <td>2022-06-10</td>\n",
              "      <td>4</td>\n",
              "      <td>776.0</td>\n",
              "    </tr>\n",
              "    <tr>\n",
              "      <th>4</th>\n",
              "      <td>019846.jpg</td>\n",
              "      <td>apple_fuji</td>\n",
              "      <td>4610</td>\n",
              "      <td>1</td>\n",
              "      <td>5</td>\n",
              "      <td>776.0</td>\n",
              "      <td>1</td>\n",
              "      <td>test</td>\n",
              "      <td>4-6</td>\n",
              "      <td>0</td>\n",
              "      <td>0</td>\n",
              "      <td>2022-06-10</td>\n",
              "      <td>1</td>\n",
              "      <td>776.0</td>\n",
              "    </tr>\n",
              "  </tbody>\n",
              "</table>\n",
              "</div>"
            ],
            "text/plain": [
              "    file_name     variety layout_id  packed  amount  weight  crowd subset  \\\n",
              "0  007576.jpg  apple_fuji      1246       1       5   776.0      0  train   \n",
              "1  085095.jpg  apple_fuji      1246       1       5   776.0      0  train   \n",
              "2  077142.jpg  apple_fuji      1246       1       5   776.0      0  train   \n",
              "3  091219.jpg  apple_fuji      1246       1       5   776.0      0  train   \n",
              "4  019846.jpg  apple_fuji      4610       1       5   776.0      1   test   \n",
              "\n",
              "  simp_amount  uniform_background  spoiled  full_date  rank  adjusted_weight  \n",
              "0         4-6                   0        0 2022-06-10     1            776.0  \n",
              "1         4-6                   0        0 2022-06-10     2            776.0  \n",
              "2         4-6                   0        0 2022-06-10     3            776.0  \n",
              "3         4-6                   0        0 2022-06-10     4            776.0  \n",
              "4         4-6                   0        0 2022-06-10     1            776.0  "
            ]
          },
          "execution_count": 13,
          "metadata": {},
          "output_type": "execute_result"
        }
      ],
      "source": [
        "# Function to adjust the weight with a random margin within the allowed range\n",
        "def adjust_weight(row):\n",
        "    if row['is_outlier']:\n",
        "        # Get the average weight for the variety from the dictionary\n",
        "        avg_weight = avg_weight_1_dict.get(row['variety'], 0)  # Default to 0 if variety not found\n",
        "        # Random factor within the margin of error range\n",
        "        random_factor = np.random.uniform(1 - margin_of_error, 1 + margin_of_error)\n",
        "        adjusted_weight = row['amount'] * avg_weight * random_factor\n",
        "        return adjusted_weight\n",
        "    else:\n",
        "        return row['weight']\n",
        "\n",
        "# Apply the adjustment\n",
        "classification_df['adjusted_weight'] = classification_df.apply(adjust_weight, axis=1)\n",
        "\n",
        "\n",
        "classification_df = classification_df.drop(columns=['expected_weight', 'min_weight', 'max_weight','is_outlier'])\n",
        "\n",
        "classification_df.head()"
      ]
    },
    {
      "cell_type": "markdown",
      "metadata": {},
      "source": [
        "# Extract cleaned csv all fruits"
      ]
    },
    {
      "cell_type": "code",
      "execution_count": 14,
      "metadata": {},
      "outputs": [],
      "source": [
        "classification_df.to_csv('cleaned_csv_all_fruits.csv', index=False, header=True)"
      ]
    },
    {
      "cell_type": "markdown",
      "metadata": {},
      "source": [
        "# Extract cleaned csv 19 class"
      ]
    },
    {
      "cell_type": "code",
      "execution_count": 15,
      "metadata": {},
      "outputs": [
        {
          "name": "stdout",
          "output_type": "stream",
          "text": [
            "{0: 'carrot_carrot', 1: 'apple_red_delicious', 2: 'tomato_pink', 3: 'cucumber_long', 4: 'banana_yellow', 5: 'apple_granny', 6: 'apple_fuji', 7: 'pepper_sweet_red', 8: 'orange_orange', 9: 'onion_white', 10: 'apple_ligol', 11: 'lime_lime', 12: 'avocado_hass', 13: 'apple_golden', 14: 'kiwi_kiwi', 15: 'tomato_cherry_red', 16: 'pepper_sweet_green', 17: 'pepper_sweet_yellow', 18: 'lemon_yellow'}\n"
          ]
        }
      ],
      "source": [
        "#Following the labels for the YoLo8 this are the varieties we will be working with\n",
        "#Replaced pear_williams_rouge for apple_fuji because there was not enough information for pear_williams_rouge\n",
        "\n",
        "fruits_only = ['carrot_carrot', 'apple_red_delicious', 'tomato_pink', \n",
        "            'cucumber_long','banana_yellow', 'apple_granny', 'apple_fuji', \n",
        "            'pepper_sweet_red','orange_orange', 'onion_white', 'apple_ligol', 'lime_lime',\n",
        "            'avocado_hass', 'apple_golden', 'kiwi_kiwi', 'tomato_cherry_red', 'pepper_sweet_green',\n",
        "            'pepper_sweet_yellow', 'lemon_yellow']\n",
        "\n",
        "varieties_dict = {i: fruits_only[i] for i in range(len(fruits_only))} #to have the same index as yolo\n",
        "print(varieties_dict)"
      ]
    },
    {
      "cell_type": "code",
      "execution_count": 16,
      "metadata": {},
      "outputs": [
        {
          "data": {
            "text/html": [
              "<div>\n",
              "<style scoped>\n",
              "    .dataframe tbody tr th:only-of-type {\n",
              "        vertical-align: middle;\n",
              "    }\n",
              "\n",
              "    .dataframe tbody tr th {\n",
              "        vertical-align: top;\n",
              "    }\n",
              "\n",
              "    .dataframe thead th {\n",
              "        text-align: right;\n",
              "    }\n",
              "</style>\n",
              "<table border=\"1\" class=\"dataframe\">\n",
              "  <thead>\n",
              "    <tr style=\"text-align: right;\">\n",
              "      <th></th>\n",
              "      <th>file_name</th>\n",
              "      <th>variety</th>\n",
              "      <th>layout_id</th>\n",
              "      <th>packed</th>\n",
              "      <th>amount</th>\n",
              "      <th>weight</th>\n",
              "      <th>crowd</th>\n",
              "      <th>subset</th>\n",
              "      <th>simp_amount</th>\n",
              "      <th>uniform_background</th>\n",
              "      <th>spoiled</th>\n",
              "      <th>full_date</th>\n",
              "      <th>rank</th>\n",
              "      <th>adjusted_weight</th>\n",
              "      <th>label</th>\n",
              "    </tr>\n",
              "  </thead>\n",
              "  <tbody>\n",
              "    <tr>\n",
              "      <th>0</th>\n",
              "      <td>007576.jpg</td>\n",
              "      <td>apple_fuji</td>\n",
              "      <td>1246</td>\n",
              "      <td>1</td>\n",
              "      <td>5</td>\n",
              "      <td>776.0</td>\n",
              "      <td>0</td>\n",
              "      <td>train</td>\n",
              "      <td>4-6</td>\n",
              "      <td>0</td>\n",
              "      <td>0</td>\n",
              "      <td>2022-06-10</td>\n",
              "      <td>1</td>\n",
              "      <td>776.0</td>\n",
              "      <td>6</td>\n",
              "    </tr>\n",
              "    <tr>\n",
              "      <th>1</th>\n",
              "      <td>085095.jpg</td>\n",
              "      <td>apple_fuji</td>\n",
              "      <td>1246</td>\n",
              "      <td>1</td>\n",
              "      <td>5</td>\n",
              "      <td>776.0</td>\n",
              "      <td>0</td>\n",
              "      <td>train</td>\n",
              "      <td>4-6</td>\n",
              "      <td>0</td>\n",
              "      <td>0</td>\n",
              "      <td>2022-06-10</td>\n",
              "      <td>2</td>\n",
              "      <td>776.0</td>\n",
              "      <td>6</td>\n",
              "    </tr>\n",
              "    <tr>\n",
              "      <th>2</th>\n",
              "      <td>077142.jpg</td>\n",
              "      <td>apple_fuji</td>\n",
              "      <td>1246</td>\n",
              "      <td>1</td>\n",
              "      <td>5</td>\n",
              "      <td>776.0</td>\n",
              "      <td>0</td>\n",
              "      <td>train</td>\n",
              "      <td>4-6</td>\n",
              "      <td>0</td>\n",
              "      <td>0</td>\n",
              "      <td>2022-06-10</td>\n",
              "      <td>3</td>\n",
              "      <td>776.0</td>\n",
              "      <td>6</td>\n",
              "    </tr>\n",
              "    <tr>\n",
              "      <th>3</th>\n",
              "      <td>091219.jpg</td>\n",
              "      <td>apple_fuji</td>\n",
              "      <td>1246</td>\n",
              "      <td>1</td>\n",
              "      <td>5</td>\n",
              "      <td>776.0</td>\n",
              "      <td>0</td>\n",
              "      <td>train</td>\n",
              "      <td>4-6</td>\n",
              "      <td>0</td>\n",
              "      <td>0</td>\n",
              "      <td>2022-06-10</td>\n",
              "      <td>4</td>\n",
              "      <td>776.0</td>\n",
              "      <td>6</td>\n",
              "    </tr>\n",
              "    <tr>\n",
              "      <th>4</th>\n",
              "      <td>019846.jpg</td>\n",
              "      <td>apple_fuji</td>\n",
              "      <td>4610</td>\n",
              "      <td>1</td>\n",
              "      <td>5</td>\n",
              "      <td>776.0</td>\n",
              "      <td>1</td>\n",
              "      <td>test</td>\n",
              "      <td>4-6</td>\n",
              "      <td>0</td>\n",
              "      <td>0</td>\n",
              "      <td>2022-06-10</td>\n",
              "      <td>1</td>\n",
              "      <td>776.0</td>\n",
              "      <td>6</td>\n",
              "    </tr>\n",
              "  </tbody>\n",
              "</table>\n",
              "</div>"
            ],
            "text/plain": [
              "    file_name     variety layout_id  packed  amount  weight  crowd subset  \\\n",
              "0  007576.jpg  apple_fuji      1246       1       5   776.0      0  train   \n",
              "1  085095.jpg  apple_fuji      1246       1       5   776.0      0  train   \n",
              "2  077142.jpg  apple_fuji      1246       1       5   776.0      0  train   \n",
              "3  091219.jpg  apple_fuji      1246       1       5   776.0      0  train   \n",
              "4  019846.jpg  apple_fuji      4610       1       5   776.0      1   test   \n",
              "\n",
              "  simp_amount  uniform_background  spoiled  full_date  rank  adjusted_weight  \\\n",
              "0         4-6                   0        0 2022-06-10     1            776.0   \n",
              "1         4-6                   0        0 2022-06-10     2            776.0   \n",
              "2         4-6                   0        0 2022-06-10     3            776.0   \n",
              "3         4-6                   0        0 2022-06-10     4            776.0   \n",
              "4         4-6                   0        0 2022-06-10     1            776.0   \n",
              "\n",
              "   label  \n",
              "0      6  \n",
              "1      6  \n",
              "2      6  \n",
              "3      6  \n",
              "4      6  "
            ]
          },
          "execution_count": 16,
          "metadata": {},
          "output_type": "execute_result"
        }
      ],
      "source": [
        "filtered_df = classification_df[(classification_df['variety'].isin(fruits_only))]\n",
        "filtered_df = filtered_df.copy()\n",
        "reversed_varieties_dict = {v: k for k, v in varieties_dict.items()}\n",
        "filtered_df['label'] = filtered_df['variety'].map(reversed_varieties_dict)\n",
        "filtered_df.head()"
      ]
    },
    {
      "cell_type": "code",
      "execution_count": 17,
      "metadata": {},
      "outputs": [
        {
          "name": "stdout",
          "output_type": "stream",
          "text": [
            "4-6    8104\n",
            "2-3    7924\n",
            "1      7404\n",
            "7+     6996\n",
            "Name: simp_amount, dtype: int64\n",
            "4-6     8104\n",
            "2-3     7924\n",
            "1       7404\n",
            "7-12    6952\n",
            "Name: simp_amount, dtype: int64\n"
          ]
        }
      ],
      "source": [
        "#Filter out rows with amount > 12\n",
        "\n",
        "print(filtered_df['simp_amount'].value_counts())\n",
        "\n",
        "filtered_df = filtered_df[filtered_df['amount'] <= 12]\n",
        "filtered_df['simp_amount'] = filtered_df['simp_amount'].replace('7+', '7-12')\n",
        "\n",
        "print(filtered_df['simp_amount'].value_counts())\n",
        "\n",
        "filtered_df = filtered_df.drop(columns=['full_date'])"
      ]
    },
    {
      "cell_type": "code",
      "execution_count": 19,
      "metadata": {},
      "outputs": [],
      "source": [
        "filtered_df.to_csv('cleaned_csv_19_class.csv', index=False, header=True)\n"
      ]
    }
  ],
  "metadata": {
    "colab": {
      "gpuType": "A100",
      "machine_shape": "hm",
      "provenance": [],
      "toc_visible": true
    },
    "kernelspec": {
      "display_name": "Artefact",
      "language": "python",
      "name": "python3"
    },
    "language_info": {
      "codemirror_mode": {
        "name": "ipython",
        "version": 3
      },
      "file_extension": ".py",
      "mimetype": "text/x-python",
      "name": "python",
      "nbconvert_exporter": "python",
      "pygments_lexer": "ipython3",
      "version": "3.10.12"
    }
  },
  "nbformat": 4,
  "nbformat_minor": 0
}
