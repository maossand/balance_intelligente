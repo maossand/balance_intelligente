{
 "cells": [
  {
   "cell_type": "code",
   "execution_count": null,
   "metadata": {
    "_cell_guid": "b1076dfc-b9ad-4769-8c92-a6c4dae69d19",
    "_kg_hide-input": true,
    "_kg_hide-output": true,
    "_uuid": "8f2839f25d086af736a60e9eeb907d3b93b6e0e5",
    "collapsed": true,
    "execution": {
     "iopub.execute_input": "2025-03-02T14:10:05.683107Z",
     "iopub.status.busy": "2025-03-02T14:10:05.682899Z",
     "iopub.status.idle": "2025-03-02T14:12:39.945735Z",
     "shell.execute_reply": "2025-03-02T14:12:39.944607Z",
     "shell.execute_reply.started": "2025-03-02T14:10:05.683083Z"
    },
    "jupyter": {
     "outputs_hidden": true
    },
    "trusted": true
   },
   "outputs": [],
   "source": [
    "# This Python 3 environment comes with many helpful analytics libraries installed\n",
    "# It is defined by the kaggle/python Docker image: https://github.com/kaggle/docker-python\n",
    "# For example, here's several helpful packages to load\n",
    "\n",
    "import numpy as np # linear algebra\n",
    "import pandas as pd # data processing, CSV file I/O (e.g. pd.read_csv)\n",
    "\n",
    "# Input data files are available in the read-only \"../input/\" directory\n",
    "# For example, running this (by clicking run or pressing Shift+Enter) will list all files under the input directory\n",
    "\n",
    "import os\n",
    "for dirname, _, filenames in os.walk('/kaggle/input'):\n",
    "    for filename in filenames:\n",
    "        print(os.path.join(dirname, filename))\n",
    "\n",
    "# You can write up to 20GB to the current directory (/kaggle/working/) that gets preserved as output when you create a version using \"Save & Run All\" \n",
    "# You can also write temporary files to /kaggle/temp/, but they won't be saved outside of the current session"
   ]
  },
  {
   "cell_type": "markdown",
   "metadata": {},
   "source": [
    "# Notebook to download folders from Kaggle (to be run on Kaggle notebook)"
   ]
  },
  {
   "cell_type": "markdown",
   "metadata": {},
   "source": [
    "Since the full dataset was over 30GB we extracted folders by batches. "
   ]
  },
  {
   "cell_type": "code",
   "execution_count": null,
   "metadata": {
    "execution": {
     "iopub.execute_input": "2025-03-02T14:14:01.732839Z",
     "iopub.status.busy": "2025-03-02T14:14:01.732487Z",
     "iopub.status.idle": "2025-03-02T14:14:01.737916Z",
     "shell.execute_reply": "2025-03-02T14:14:01.736437Z",
     "shell.execute_reply.started": "2025-03-02T14:14:01.732811Z"
    },
    "trusted": true
   },
   "outputs": [],
   "source": [
    "import os\n",
    "import shutil"
   ]
  },
  {
   "cell_type": "markdown",
   "metadata": {},
   "source": [
    "## Function to extract folder"
   ]
  },
  {
   "cell_type": "code",
   "execution_count": null,
   "metadata": {
    "execution": {
     "iopub.execute_input": "2025-03-02T14:14:05.948158Z",
     "iopub.status.busy": "2025-03-02T14:14:05.947814Z",
     "iopub.status.idle": "2025-03-02T14:14:05.954798Z",
     "shell.execute_reply": "2025-03-02T14:14:05.953714Z",
     "shell.execute_reply.started": "2025-03-02T14:14:05.948128Z"
    },
    "trusted": true
   },
   "outputs": [],
   "source": [
    "def create_output_zip(fruit_folder: str, folder_type: str = 'both'):\n",
    "    \"\"\"\n",
    "    Function to create zip files for train, test, or both folders for a given fruit.\n",
    "    Arguments:\n",
    "    - fruit_folder: Name of the fruit folder to create zip for.\n",
    "    - folder_type: 'train', 'test', or 'both' to create zip files for the respective folders.\n",
    "    \"\"\"\n",
    "    # Ensure valid folder_type input\n",
    "    if folder_type not in ['train', 'test', 'both']:\n",
    "        print(\"Invalid folder_type. Please use 'train', 'test', or 'both'.\")\n",
    "        return\n",
    "    \n",
    "    # For train\n",
    "    if folder_type in ['train', 'both']:\n",
    "        input_folder_path_train = f'/kaggle/input/packed-fruits-and-vegetables-recognition-benchmark/train/train/{fruit_folder}'\n",
    "        output_folder_path_train = f'/kaggle/working/train_{fruit_folder}.zip'        \n",
    "        # Creates the zip only if it does not exist\n",
    "        if not os.path.exists(output_folder_path_train):\n",
    "            shutil.make_archive(output_folder_path_train.replace('.zip', ''), 'zip', input_folder_path_train)\n",
    "            print(f\"Created train zip file: {output_folder_path_train}, refresh output to download.\")\n",
    "        else:\n",
    "            print(f\"A zip file for {fruit_folder} train already exists: {output_folder_path_train}, refresh output to download.\")\n",
    "            \n",
    "    # For test\n",
    "    if folder_type in ['test', 'both']:\n",
    "        input_folder_path_test = f'/kaggle/input/packed-fruits-and-vegetables-recognition-benchmark/test/test/{fruit_folder}'\n",
    "        output_folder_path_test = f'/kaggle/working/test_{fruit_folder}.zip'\n",
    "        \n",
    "        # Creates the zip only if it does not exist\n",
    "        if not os.path.exists(output_folder_path_test):\n",
    "            shutil.make_archive(output_folder_path_test.replace('.zip', ''), 'zip', input_folder_path_test)\n",
    "            print(f\"Created test zip file: {output_folder_path_test}, refresh output to download.\")\n",
    "        else:\n",
    "            print(f\"A zip file for {fruit_folder} test already exists: {output_folder_path_test}, refresh output to download.\")\n"
   ]
  },
  {
   "cell_type": "markdown",
   "metadata": {},
   "source": [
    "## Get the 65 classes with their respective folder name"
   ]
  },
  {
   "cell_type": "code",
   "execution_count": null,
   "metadata": {},
   "outputs": [],
   "source": [
    "variety_classification_path = f'/kaggle/input/packed-fruits-and-vegetables-recognition-benchmark/variety_classification.csv'\n",
    "\n",
    "dtype = {7: str}\n",
    "\n",
    "variety_classification =  pd.read_csv(variety_classification_path, dtype=dtype)\n",
    "variety_classification['kaggle_path'] = (variety_classification['subset'].astype(str)) + '/' + (variety_classification['variety_image_path'].astype(str).apply(lambda x: str(x).split('/',1)[1]))\n",
    "variety_classification['fruit_class'] = variety_classification['species'] + '_' + variety_classification['variety']\n",
    "#List of unique classes\n",
    "unique_classes = variety_classification['fruit_class'].unique().tolist()\n",
    "unique_classes_dict = {index: cls for index, cls in enumerate(unique_classes)}\n",
    "print(unique_classes_dict)"
   ]
  },
  {
   "cell_type": "markdown",
   "metadata": {},
   "source": [
    "### Example"
   ]
  },
  {
   "cell_type": "code",
   "execution_count": null,
   "metadata": {
    "trusted": true
   },
   "outputs": [],
   "source": [
    "#Example: extract banana_yellow and apple_golden \n",
    "\n",
    "fruits_to_extract = ['banana_yellow', 'apple_golden']\n",
    "\n",
    "for i in fruits_to_extract:\n",
    "    create_output_zip(i,'both')\n",
    "\n",
    "#After this we have to refresh the output in Kaggle and download the zip file manually. "
   ]
  }
 ],
 "metadata": {
  "kaggle": {
   "accelerator": "none",
   "dataSources": [
    {
     "datasetId": 4522892,
     "sourceId": 9203638,
     "sourceType": "datasetVersion"
    }
   ],
   "dockerImageVersionId": 30886,
   "isGpuEnabled": false,
   "isInternetEnabled": true,
   "language": "python",
   "sourceType": "notebook"
  },
  "kernelspec": {
   "display_name": "Python 3",
   "language": "python",
   "name": "python3"
  },
  "language_info": {
   "codemirror_mode": {
    "name": "ipython",
    "version": 3
   },
   "file_extension": ".py",
   "mimetype": "text/x-python",
   "name": "python",
   "nbconvert_exporter": "python",
   "pygments_lexer": "ipython3",
   "version": "3.10.12"
  }
 },
 "nbformat": 4,
 "nbformat_minor": 4
}
